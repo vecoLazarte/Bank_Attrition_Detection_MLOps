{
 "cells": [
  {
   "cell_type": "code",
   "execution_count": 1,
   "id": "f53b8cd0",
   "metadata": {},
   "outputs": [],
   "source": [
    "import pandas as pd\n",
    "from sklearn.impute import SimpleImputer\n",
    "from sklearn.preprocessing import LabelEncoder\n",
    "from pathlib import Path"
   ]
  },
  {
   "cell_type": "code",
   "execution_count": 3,
   "id": "0aae74f3",
   "metadata": {},
   "outputs": [
    {
     "name": "stdout",
     "output_type": "stream",
     "text": [
      "Clientes:\n",
      "   ID_CORRELATIVO  CODMES  FLG_BANCARIZADO     RANG_INGRESO  \\\n",
      "0           22240  202408                0  Rang_ingreso_02   \n",
      "1           86930  202408                1  Rang_ingreso_04   \n",
      "2           53259  202408                1  Rang_ingreso_03   \n",
      "3           53104  202408                0              NaN   \n",
      "4            5720  202408                1  Rang_ingreso_03   \n",
      "\n",
      "  FLAG_LIMA_PROVINCIA  EDAD  ANTIGUEDAD RANG_SDO_PASIVO_MENOS0  \\\n",
      "0                Lima  27.0         0.0           Rango_SDO_01   \n",
      "1           Provincia  41.0         0.0                   Cero   \n",
      "2                Lima  29.0         8.0           Rango_SDO_01   \n",
      "3                Lima  57.0         2.0           Rango_SDO_02   \n",
      "4                Lima  28.0         1.0           Rango_SDO_04   \n",
      "\n",
      "   SDO_ACTIVO_MENOS0  SDO_ACTIVO_MENOS1  ...  NRO_ENTID_SSFF_MENOS2  \\\n",
      "0                  0                  0  ...                      0   \n",
      "1                  0                  0  ...                      3   \n",
      "2                  0                  0  ...                      3   \n",
      "3                  0                  0  ...                      0   \n",
      "4                  0                  0  ...                      1   \n",
      "\n",
      "   NRO_ENTID_SSFF_MENOS3  NRO_ENTID_SSFF_MENOS4  NRO_ENTID_SSFF_MENOS5  \\\n",
      "0                      0                      0                      0   \n",
      "1                      2                      2                      2   \n",
      "2                      4                      4                      4   \n",
      "3                      0                      0                      0   \n",
      "4                      1                      2                      2   \n",
      "\n",
      "   FLG_SDO_OTSSFF_MENOS0  FLG_SDO_OTSSFF_MENOS1  FLG_SDO_OTSSFF_MENOS2  \\\n",
      "0                      0                      0                      0   \n",
      "1                      1                      1                      1   \n",
      "2                      1                      1                      1   \n",
      "3                      0                      0                      0   \n",
      "4                      0                      0                      0   \n",
      "\n",
      "   FLG_SDO_OTSSFF_MENOS3  FLG_SDO_OTSSFF_MENOS4  FLG_SDO_OTSSFF_MENOS5  \n",
      "0                      0                      0                      0  \n",
      "1                      1                      1                      1  \n",
      "2                      1                      1                      1  \n",
      "3                      0                      0                      0  \n",
      "4                      0                      0                      0  \n",
      "\n",
      "[5 rows x 52 columns] \n",
      "\n",
      "Requerimientos:\n",
      "   ID_CORRELATIVO TIPO_REQUERIMIENTO2       DICTAMEN  CODMES  \\\n",
      "0           64216             Reclamo     NO PROCEDE  202406   \n",
      "1           64216           Solicitud     NO PROCEDE  202405   \n",
      "2           31419             Reclamo     NO PROCEDE  202404   \n",
      "3           31419             Reclamo  PROCEDE TOTAL  202404   \n",
      "4           57394           Solicitud     NO PROCEDE  202406   \n",
      "\n",
      "  PRODUCTO_SERVICIO_2    SUBMOTIVO_2  \n",
      "0         Producto 20   Submotivo 43  \n",
      "1         Producto 20  Submotivo 157  \n",
      "2         Producto 21   Submotivo 40  \n",
      "3         Producto 21   Submotivo 88  \n",
      "4         Producto 20  Submotivo 157  \n"
     ]
    }
   ],
   "source": [
    "data_dir = Path(\"data\") / \"in\"\n",
    "clientes_path = data_dir / \"oot_clientes_sample.csv\"\n",
    "reqs_path = data_dir / \"oot_requerimientos_sample.csv\"\n",
    "\n",
    "\n",
    "oot_clientes = pd.read_csv(clientes_path)\n",
    "oot_requirements = pd.read_csv(reqs_path)\n",
    "\n",
    "# Muestra los primeros registros para verificar que cargó bien\n",
    "print(\"Clientes:\")\n",
    "print(oot_clientes.head(), \"\\n\")\n",
    "print(\"Requerimientos:\")\n",
    "print(oot_requirements.head())\n"
   ]
  },
  {
   "cell_type": "code",
   "execution_count": 5,
   "id": "4aef72a8",
   "metadata": {},
   "outputs": [
    {
     "data": {
      "application/vnd.microsoft.datawrangler.viewer.v0+json": {
       "columns": [
        {
         "name": "index",
         "rawType": "object",
         "type": "string"
        },
        {
         "name": "0",
         "rawType": "object",
         "type": "unknown"
        }
       ],
       "ref": "c9740bcf-4661-4e65-9b9c-07e0052b36b3",
       "rows": [
        [
         "ID_CORRELATIVO",
         "int64"
        ],
        [
         "CODMES",
         "int64"
        ],
        [
         "FLG_BANCARIZADO",
         "int64"
        ],
        [
         "RANG_INGRESO",
         "object"
        ],
        [
         "FLAG_LIMA_PROVINCIA",
         "object"
        ],
        [
         "EDAD",
         "float64"
        ],
        [
         "ANTIGUEDAD",
         "float64"
        ],
        [
         "RANG_SDO_PASIVO_MENOS0",
         "object"
        ],
        [
         "SDO_ACTIVO_MENOS0",
         "int64"
        ],
        [
         "SDO_ACTIVO_MENOS1",
         "int64"
        ],
        [
         "SDO_ACTIVO_MENOS2",
         "int64"
        ],
        [
         "SDO_ACTIVO_MENOS3",
         "int64"
        ],
        [
         "SDO_ACTIVO_MENOS4",
         "int64"
        ],
        [
         "SDO_ACTIVO_MENOS5",
         "int64"
        ],
        [
         "FLG_SEGURO_MENOS0",
         "int64"
        ],
        [
         "FLG_SEGURO_MENOS1",
         "int64"
        ],
        [
         "FLG_SEGURO_MENOS2",
         "int64"
        ],
        [
         "FLG_SEGURO_MENOS3",
         "int64"
        ],
        [
         "FLG_SEGURO_MENOS4",
         "int64"
        ],
        [
         "FLG_SEGURO_MENOS5",
         "int64"
        ],
        [
         "RANG_NRO_PRODUCTOS_MENOS0",
         "object"
        ],
        [
         "FLG_NOMINA",
         "int64"
        ],
        [
         "NRO_ACCES_CANAL1_MENOS0",
         "int64"
        ],
        [
         "NRO_ACCES_CANAL1_MENOS1",
         "int64"
        ],
        [
         "NRO_ACCES_CANAL1_MENOS2",
         "int64"
        ],
        [
         "NRO_ACCES_CANAL1_MENOS3",
         "int64"
        ],
        [
         "NRO_ACCES_CANAL1_MENOS4",
         "int64"
        ],
        [
         "NRO_ACCES_CANAL1_MENOS5",
         "int64"
        ],
        [
         "NRO_ACCES_CANAL2_MENOS0",
         "int64"
        ],
        [
         "NRO_ACCES_CANAL2_MENOS1",
         "int64"
        ],
        [
         "NRO_ACCES_CANAL2_MENOS2",
         "int64"
        ],
        [
         "NRO_ACCES_CANAL2_MENOS3",
         "int64"
        ],
        [
         "NRO_ACCES_CANAL2_MENOS4",
         "int64"
        ],
        [
         "NRO_ACCES_CANAL2_MENOS5",
         "int64"
        ],
        [
         "NRO_ACCES_CANAL3_MENOS0",
         "int64"
        ],
        [
         "NRO_ACCES_CANAL3_MENOS1",
         "int64"
        ],
        [
         "NRO_ACCES_CANAL3_MENOS2",
         "int64"
        ],
        [
         "NRO_ACCES_CANAL3_MENOS3",
         "int64"
        ],
        [
         "NRO_ACCES_CANAL3_MENOS4",
         "int64"
        ],
        [
         "NRO_ACCES_CANAL3_MENOS5",
         "int64"
        ],
        [
         "NRO_ENTID_SSFF_MENOS0",
         "int64"
        ],
        [
         "NRO_ENTID_SSFF_MENOS1",
         "int64"
        ],
        [
         "NRO_ENTID_SSFF_MENOS2",
         "int64"
        ],
        [
         "NRO_ENTID_SSFF_MENOS3",
         "int64"
        ],
        [
         "NRO_ENTID_SSFF_MENOS4",
         "int64"
        ],
        [
         "NRO_ENTID_SSFF_MENOS5",
         "int64"
        ],
        [
         "FLG_SDO_OTSSFF_MENOS0",
         "int64"
        ],
        [
         "FLG_SDO_OTSSFF_MENOS1",
         "int64"
        ],
        [
         "FLG_SDO_OTSSFF_MENOS2",
         "int64"
        ],
        [
         "FLG_SDO_OTSSFF_MENOS3",
         "int64"
        ]
       ],
       "shape": {
        "columns": 1,
        "rows": 52
       }
      },
      "text/plain": [
       "ID_CORRELATIVO                 int64\n",
       "CODMES                         int64\n",
       "FLG_BANCARIZADO                int64\n",
       "RANG_INGRESO                  object\n",
       "FLAG_LIMA_PROVINCIA           object\n",
       "EDAD                         float64\n",
       "ANTIGUEDAD                   float64\n",
       "RANG_SDO_PASIVO_MENOS0        object\n",
       "SDO_ACTIVO_MENOS0              int64\n",
       "SDO_ACTIVO_MENOS1              int64\n",
       "SDO_ACTIVO_MENOS2              int64\n",
       "SDO_ACTIVO_MENOS3              int64\n",
       "SDO_ACTIVO_MENOS4              int64\n",
       "SDO_ACTIVO_MENOS5              int64\n",
       "FLG_SEGURO_MENOS0              int64\n",
       "FLG_SEGURO_MENOS1              int64\n",
       "FLG_SEGURO_MENOS2              int64\n",
       "FLG_SEGURO_MENOS3              int64\n",
       "FLG_SEGURO_MENOS4              int64\n",
       "FLG_SEGURO_MENOS5              int64\n",
       "RANG_NRO_PRODUCTOS_MENOS0     object\n",
       "FLG_NOMINA                     int64\n",
       "NRO_ACCES_CANAL1_MENOS0        int64\n",
       "NRO_ACCES_CANAL1_MENOS1        int64\n",
       "NRO_ACCES_CANAL1_MENOS2        int64\n",
       "NRO_ACCES_CANAL1_MENOS3        int64\n",
       "NRO_ACCES_CANAL1_MENOS4        int64\n",
       "NRO_ACCES_CANAL1_MENOS5        int64\n",
       "NRO_ACCES_CANAL2_MENOS0        int64\n",
       "NRO_ACCES_CANAL2_MENOS1        int64\n",
       "NRO_ACCES_CANAL2_MENOS2        int64\n",
       "NRO_ACCES_CANAL2_MENOS3        int64\n",
       "NRO_ACCES_CANAL2_MENOS4        int64\n",
       "NRO_ACCES_CANAL2_MENOS5        int64\n",
       "NRO_ACCES_CANAL3_MENOS0        int64\n",
       "NRO_ACCES_CANAL3_MENOS1        int64\n",
       "NRO_ACCES_CANAL3_MENOS2        int64\n",
       "NRO_ACCES_CANAL3_MENOS3        int64\n",
       "NRO_ACCES_CANAL3_MENOS4        int64\n",
       "NRO_ACCES_CANAL3_MENOS5        int64\n",
       "NRO_ENTID_SSFF_MENOS0          int64\n",
       "NRO_ENTID_SSFF_MENOS1          int64\n",
       "NRO_ENTID_SSFF_MENOS2          int64\n",
       "NRO_ENTID_SSFF_MENOS3          int64\n",
       "NRO_ENTID_SSFF_MENOS4          int64\n",
       "NRO_ENTID_SSFF_MENOS5          int64\n",
       "FLG_SDO_OTSSFF_MENOS0          int64\n",
       "FLG_SDO_OTSSFF_MENOS1          int64\n",
       "FLG_SDO_OTSSFF_MENOS2          int64\n",
       "FLG_SDO_OTSSFF_MENOS3          int64\n",
       "FLG_SDO_OTSSFF_MENOS4          int64\n",
       "FLG_SDO_OTSSFF_MENOS5          int64\n",
       "dtype: object"
      ]
     },
     "execution_count": 5,
     "metadata": {},
     "output_type": "execute_result"
    }
   ],
   "source": [
    "oot_clientes.dtypes\n"
   ]
  },
  {
   "cell_type": "code",
   "execution_count": 7,
   "id": "ab41064e",
   "metadata": {},
   "outputs": [
    {
     "name": "stdout",
     "output_type": "stream",
     "text": [
      "Columnas con faltantes: ['RANG_INGRESO', 'FLAG_LIMA_PROVINCIA', 'EDAD', 'ANTIGUEDAD']\n",
      "Columnas con faltantes: []\n"
     ]
    }
   ],
   "source": [
    "oot_clientes_missing = oot_clientes.columns[oot_clientes.isnull().any()].tolist()\n",
    "print(\"Columnas con faltantes:\", oot_clientes_missing)\n",
    "oot_requirements_missing = oot_requirements.columns[oot_requirements.isnull().any()].tolist()\n",
    "print(\"Columnas con faltantes:\", oot_requirements_missing)"
   ]
  },
  {
   "cell_type": "code",
   "execution_count": null,
   "id": "b3c29b86",
   "metadata": {},
   "outputs": [
    {
     "ename": "NameError",
     "evalue": "name 'requirements' is not defined",
     "output_type": "error",
     "traceback": [
      "\u001b[31m---------------------------------------------------------------------------\u001b[39m",
      "\u001b[31mNameError\u001b[39m                                 Traceback (most recent call last)",
      "\u001b[36mCell\u001b[39m\u001b[36m \u001b[39m\u001b[32mIn[6]\u001b[39m\u001b[32m, line 1\u001b[39m\n\u001b[32m----> \u001b[39m\u001b[32m1\u001b[39m num_cols = \u001b[43mrequirements\u001b[49m.select_dtypes(include=[\u001b[33m'\u001b[39m\u001b[33mint64\u001b[39m\u001b[33m'\u001b[39m, \u001b[33m'\u001b[39m\u001b[33mfloat64\u001b[39m\u001b[33m'\u001b[39m]).columns\n\u001b[32m      2\u001b[39m imp_mean = SimpleImputer(strategy=\u001b[33m'\u001b[39m\u001b[33mmean\u001b[39m\u001b[33m'\u001b[39m)\n\u001b[32m      3\u001b[39m requirements[num_cols] = imp_mean.fit_transform(requirements[num_cols])\n",
      "\u001b[31mNameError\u001b[39m: name 'requirements' is not defined"
     ]
    }
   ],
   "source": [
    "num_cols = oot_requirements.select_dtypes(include=['int64', 'float64']).columns\n",
    "imp_mean = SimpleImputer(strategy='mean')\n",
    "oot_requirements[num_cols] = imp_mean.fit_transform(oot_requirements[num_cols])\n",
    "\n",
    "\n"
   ]
  },
  {
   "cell_type": "code",
   "execution_count": null,
   "id": "ffccb437",
   "metadata": {},
   "outputs": [],
   "source": []
  }
 ],
 "metadata": {
  "kernelspec": {
   "display_name": ".venv",
   "language": "python",
   "name": "python3"
  },
  "language_info": {
   "codemirror_mode": {
    "name": "ipython",
    "version": 3
   },
   "file_extension": ".py",
   "mimetype": "text/x-python",
   "name": "python",
   "nbconvert_exporter": "python",
   "pygments_lexer": "ipython3",
   "version": "3.13.1"
  }
 },
 "nbformat": 4,
 "nbformat_minor": 5
}
